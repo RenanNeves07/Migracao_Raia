{
 "cells": [
  {
   "cell_type": "code",
   "execution_count": 1,
   "metadata": {},
   "outputs": [],
   "source": [
    "#@ RETORNA UM XLSX COM AS VIDAS ATIVAS DE UM CONJUNTO DE EMPRESAS (RAIA DROGASIL)\n",
    "import requests\n",
    "import pandas as pd\n",
    "import io\n",
    "\n",
    "url = 'https://ws1.soc.com.br/WebSoc/exportadados?parametro='\n",
    "\n",
    "empresas = ['1379598'] #RAIA DROGASIL\n",
    "tipos = ['2','3']\n",
    "empresa = 'RAIA_DROGASIL'\n",
    "dataframes=[]\n",
    "\n",
    "for tipo in tipos:\n",
    "    for item in empresas:\n",
    "        body = f'''{{'empresa':'{item}',\n",
    "                    'codigo':'11672',\n",
    "                    'chave':'8abb9e50b4201b1cbfd5',\n",
    "                    'tipoSaida':'json',\n",
    "                    'tipoBusca':'0',\n",
    "                    'sequencialFicha':'',\n",
    "                    'cpfFuncionario':'',\n",
    "                    'filtraPorTipoSocged':'1',\n",
    "                    'codigoTipoSocged':'{tipo}',\n",
    "                    'dataInicio':'',\n",
    "                    'dataFim':'',\n",
    "                    'dataEmissaoInicio':'11/03/2024',\n",
    "                    'dataEmissaoFim':'13/03/2024'}}'''\n",
    "                    \n",
    "    response = requests.post(f'{url}{body}')\n",
    "    if response.status_code == 200:\n",
    "        try:\n",
    "            data = io.StringIO(response.text)\n",
    "            df = pd.read_json(data)\n",
    "            dataframes.append(df)\n",
    "        except ValueError as e:\n",
    "            print(f'erro {e}')\n",
    "    else:\n",
    "        print('Erro Chamada')\n",
    "\n",
    "final_df = pd.concat(dataframes, ignore_index=True)\n",
    "final_df.to_excel(f'vidas_{empresa}.xlsx', index=False)"
   ]
  },
  {
   "cell_type": "code",
   "execution_count": 2,
   "metadata": {},
   "outputs": [
    {
     "name": "stderr",
     "output_type": "stream",
     "text": [
      "C:\\Users\\Lenovo\\AppData\\Local\\Temp\\ipykernel_13528\\2905162572.py:2: SettingWithCopyWarning: \n",
      "A value is trying to be set on a copy of a slice from a DataFrame.\n",
      "Try using .loc[row_indexer,col_indexer] = value instead\n",
      "\n",
      "See the caveats in the documentation: https://pandas.pydata.org/pandas-docs/stable/user_guide/indexing.html#returning-a-view-versus-a-copy\n",
      "  filtered_df['INDEX_CREATED'] = filtered_df['NM_GED'].str.extract(r'(\\d+)_')\n",
      "C:\\Users\\Lenovo\\AppData\\Local\\Temp\\ipykernel_13528\\2905162572.py:4: SettingWithCopyWarning: \n",
      "A value is trying to be set on a copy of a slice from a DataFrame.\n",
      "Try using .loc[row_indexer,col_indexer] = value instead\n",
      "\n",
      "See the caveats in the documentation: https://pandas.pydata.org/pandas-docs/stable/user_guide/indexing.html#returning-a-view-versus-a-copy\n",
      "  filtered_df['INDEX_CREATED'] = filtered_df['INDEX_CREATED'].astype(str)\n"
     ]
    }
   ],
   "source": [
    "filtered_df = final_df[final_df['OBSERVACAO'].str.contains('MIGRACAO PORTO SEGURO>BENCORP: 11/03/2024', na=False)]\n",
    "filtered_df['INDEX_CREATED'] = filtered_df['NM_GED'].str.extract(r'(\\d+)_')\n",
    "df2 = pd.read_json('D:\\\\Bencorp Projex\\\\MIGRACAO_RAIA_DROGASIL\\\\py_upload_ged_scripts\\\\upload_ae.json',orient='records')\n",
    "filtered_df['INDEX_CREATED'] = filtered_df['INDEX_CREATED'].astype(str)\n",
    "df2['INDEX_IMAGEM'] = df2['INDEX_IMAGEM'].astype(str)\n",
    "final_df = df2[~df2['INDEX_IMAGEM'].isin(filtered_df['INDEX_CREATED'])]"
   ]
  },
  {
   "cell_type": "code",
   "execution_count": null,
   "metadata": {},
   "outputs": [],
   "source": [
    "import pandas as pd\n",
    "import os\n",
    "import base64\n",
    "from multiprocessing import Pool\n",
    "from tqdm import tqdm\n",
    "\n",
    "# Assuming you have a DataFrame named 'final_df' with columns 'FILE_NAME' and 'PATH'\n",
    "def process_row(row):\n",
    "    if row['FILE_NAME'] != 'NAO':\n",
    "        path_final = os.path.join(row['PATH'], row['FILE_NAME'])\n",
    "        with open(path_final, 'rb') as f:\n",
    "            encoded_string = base64.b64encode(f.read()).decode()  # Decode to get string instead of bytes\n",
    "            return encoded_string\n",
    "    else:\n",
    "        return None\n",
    "\n",
    "def process_batch(batch):\n",
    "    return [process_row(row) for _, row in batch.iterrows()]\n",
    "\n",
    "# Number of workers\n",
    "num_workers = 50\n",
    "\n",
    "# Batch size for processing\n",
    "batch_size = 1000\n",
    "\n",
    "# Split DataFrame for parallel processing\n",
    "chunks = [final_df.iloc[i:i+batch_size] for i in range(0, len(final_df), batch_size)]\n",
    "\n",
    "# Function to process batches\n",
    "def process_batches(chunks):\n",
    "    results = []\n",
    "    for chunk in tqdm(chunks, desc=\"Processing batches\"):\n",
    "        results.extend(process_batch(chunk))\n",
    "    return results\n",
    "\n",
    "# Initialize Pool of workers\n",
    "pool = Pool(processes=num_workers)\n",
    "\n",
    "# Process chunks in parallel with tqdm progress bar\n",
    "results = pool.map(process_batches, chunks)\n",
    "\n",
    "# Flatten the results list\n",
    "results = [item for sublist in results for item in sublist]\n",
    "\n",
    "# Close the pool to free resources\n",
    "pool.close()\n",
    "pool.join()\n",
    "\n",
    "# Add the base64 data to the DataFrame\n",
    "final_df['base64_file'] = results"
   ]
  },
  {
   "cell_type": "code",
   "execution_count": null,
   "metadata": {},
   "outputs": [],
   "source": [
    "import pandas as pd\n",
    "import json\n",
    "\n",
    "# Assuming you have a DataFrame named 'df'\n",
    "\n",
    "# Split the DataFrame into three parts\n",
    "num_rows = len(final_df)\n",
    "chunk_size = num_rows // 6\n",
    "\n",
    "chunks = [final_df.iloc[i:i+chunk_size] for i in range(0, num_rows, chunk_size)]\n",
    "\n",
    "# Save each chunk to a JSON file\n",
    "for i, chunk in enumerate(chunks):\n",
    "    chunk.to_json(f\"chunk_{i+1}.json\", orient=\"records\")"
   ]
  },
  {
   "cell_type": "code",
   "execution_count": null,
   "metadata": {},
   "outputs": [],
   "source": [
    "import pandas as pd\n",
    "import os\n",
    "import base64\n",
    "from multiprocessing import Pool\n",
    "from tqdm import tqdm\n",
    "\n",
    "# Assuming you have a DataFrame named 'final_df' with columns 'FILE_NAME' and 'PATH'\n",
    "def process_row(row):\n",
    "    if row['FILE_NAME'] != 'NAO':\n",
    "        path_final = os.path.join(row['PATH'], row['FILE_NAME'])\n",
    "        print(path_final)\n",
    "        caminhoArquivo = path_final\n",
    "        with open(caminhoArquivo, 'rb') as f:\n",
    "            encoded_string = base64.b64encode(f.read()).decode()  # Decode to get string instead of bytes\n",
    "            return encoded_string\n",
    "    else:\n",
    "        return None\n",
    "    \n",
    "# Number of workers\n",
    "num_workers = 20\n",
    "\n",
    "# Split DataFrame for parallel processing\n",
    "chunks = [final_df.iloc[i:i+len(final_df)//num_workers] for i in range(0, len(final_df), len(final_df)//num_workers)]\n",
    "\n",
    "# Initialize Pool of workers\n",
    "pool = Pool(processes=num_workers)\n",
    "\n",
    "# Process chunks in parallel with tqdm progress bar\n",
    "results = []\n",
    "with tqdm(total=len(chunks)) as pbar:\n",
    "    for chunk_result in pool.imap_unordered(process_row, chunks):\n",
    "        results.extend(chunk_result)\n",
    "        pbar.update(1)  # Update progress bar\n",
    "\n",
    "# Close the pool to free resources\n",
    "pool.close()\n",
    "pool.join()\n",
    "\n",
    "# Add the base64 data to the DataFrame\n",
    "final_df['base64_file'] = results"
   ]
  },
  {
   "cell_type": "code",
   "execution_count": null,
   "metadata": {},
   "outputs": [],
   "source": [
    "final_df.columns"
   ]
  },
  {
   "cell_type": "code",
   "execution_count": null,
   "metadata": {},
   "outputs": [],
   "source": [
    "import pandas as pd\n",
    "import os\n",
    "import base64\n",
    "from multiprocessing import Pool\n",
    "\n",
    "# Assuming you have a DataFrame named 'final_df' with columns 'FILE_NAME' and 'PATH'\n",
    "def process_row(row):\n",
    "    if row['FILE_NAME'] != 'NAO':\n",
    "        path_final = os.path.join(row['PATH'], row['FILE_NAME'])\n",
    "        print(path_final)\n",
    "        caminhoArquivo = path_final\n",
    "        with open(caminhoArquivo, 'rb') as f:\n",
    "            encoded_string = base64.b64encode(f.read())\n",
    "            return encoded_string\n",
    "    else:\n",
    "        return None\n",
    "    \n",
    "# Number of workers\n",
    "num_workers = 20\n",
    "\n",
    "# Split DataFrame for parallel processing\n",
    "chunks = [final_df.iloc[i:i+len(final_df)//num_workers] for i in range(0, len(final_df), len(final_df)//num_workers)]\n",
    "\n",
    "# Initialize Pool of workers\n",
    "pool = Pool(processes=num_workers)\n",
    "\n",
    "# Process chunks in parallel\n",
    "results = pool.map(process_row, [chunk for chunk in chunks])\n",
    "\n",
    "# Close the pool to free resources\n",
    "pool.close()\n",
    "pool.join()\n",
    "\n",
    "# Combine results into a single list\n",
    "base64_data = []\n",
    "for result in results:\n",
    "    base64_data.extend(result)\n",
    "\n",
    "# Add the base64 data to the DataFrame\n",
    "final_df['base64_file'] = base64_data\n",
    "\n"
   ]
  },
  {
   "cell_type": "code",
   "execution_count": null,
   "metadata": {},
   "outputs": [],
   "source": [
    "import os\n",
    "import base64\n",
    "\n",
    "final_df['base64_file'] = pd.series([])\n",
    "\n",
    "for index, row in final_df.iterrows():\n",
    "    if row['FILE_NAME'] != 'NAO':\n",
    "        path_final = os.path.join(row['PATH'], row['FILE_NAME'])\n",
    "        print(path_final)\n",
    "        caminhoArquivo = path_final\n",
    "        with open(caminhoArquivo, 'rb') as f:\n",
    "            arquivo_bytes = f.read()\n",
    "            arquivo_base64 = base64.b64encode(arquivo_bytes).decode()\n",
    "        print(arquivo_base64)\n",
    "        "
   ]
  },
  {
   "cell_type": "code",
   "execution_count": null,
   "metadata": {},
   "outputs": [],
   "source": [
    "print(len(filtered_df))\n",
    "print(len(df2))\n",
    "print(len(final_df))"
   ]
  },
  {
   "cell_type": "code",
   "execution_count": null,
   "metadata": {},
   "outputs": [],
   "source": [
    "final_df"
   ]
  },
  {
   "cell_type": "code",
   "execution_count": null,
   "metadata": {},
   "outputs": [],
   "source": [
    "filtered_df.to_csv('dados.csv',index=None)"
   ]
  },
  {
   "cell_type": "code",
   "execution_count": null,
   "metadata": {},
   "outputs": [],
   "source": [
    "final_df['FILE_NAME']"
   ]
  },
  {
   "cell_type": "code",
   "execution_count": null,
   "metadata": {},
   "outputs": [],
   "source": [
    "import os\n",
    "listDir = os.listdir(\"E:\\RAIA_DROGASIL\\IMAGENS\\FINAL\")"
   ]
  },
  {
   "cell_type": "code",
   "execution_count": null,
   "metadata": {},
   "outputs": [],
   "source": [
    "dflist = pd.DataFrame({'col':listDir})"
   ]
  },
  {
   "cell_type": "code",
   "execution_count": null,
   "metadata": {},
   "outputs": [],
   "source": [
    "dflist"
   ]
  },
  {
   "cell_type": "code",
   "execution_count": null,
   "metadata": {},
   "outputs": [],
   "source": [
    "df_migrate = final_df[final_df['FILE_NAME'].isin(dflist['col'])]"
   ]
  },
  {
   "cell_type": "code",
   "execution_count": null,
   "metadata": {},
   "outputs": [],
   "source": [
    "df_migrate"
   ]
  }
 ],
 "metadata": {
  "kernelspec": {
   "display_name": ".venv",
   "language": "python",
   "name": "python3"
  },
  "language_info": {
   "codemirror_mode": {
    "name": "ipython",
    "version": 3
   },
   "file_extension": ".py",
   "mimetype": "text/x-python",
   "name": "python",
   "nbconvert_exporter": "python",
   "pygments_lexer": "ipython3",
   "version": "3.11.8"
  }
 },
 "nbformat": 4,
 "nbformat_minor": 2
}
